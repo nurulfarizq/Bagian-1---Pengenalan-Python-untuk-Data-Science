{
 "cells": [
  {
   "cell_type": "code",
   "execution_count": 1,
   "metadata": {},
   "outputs": [],
   "source": [
    "tinggi = 1.73\n",
    "apakah_tinggi = True # Hanya menyimpan satu nilai dalam variabel"
   ]
  },
  {
   "cell_type": "code",
   "execution_count": 11,
   "metadata": {},
   "outputs": [
    {
     "name": "stdout",
     "output_type": "stream",
     "text": [
      "[1.34, 1.69, 1.82, 1.99]\n"
     ]
    }
   ],
   "source": [
    "tinggi_1 = 1.34\n",
    "tinggi_2 = 1.69\n",
    "tinggi_3 = 1.82\n",
    "tinggi_4 = 1.99\n",
    "\n",
    "# Jawab disini\n",
    "area = [tinggi_1, tinggi_2, tinggi_3, tinggi_4]\n",
    "print(area)"
   ]
  },
  {
   "cell_type": "code",
   "execution_count": 12,
   "metadata": {},
   "outputs": [
    {
     "name": "stdout",
     "output_type": "stream",
     "text": [
      "['kakak', 1.73, 'adik', 1.68, 'ibu', 1.71, 'ayah', 1.89]\n"
     ]
    }
   ],
   "source": [
    "# Jawab disini\n",
    "keluarga = [\"kakak\", 1.73, \"adik\", 1.68, \"ibu\", 1.71, \"ayah\", 1.89]\n",
    "print(keluarga)"
   ]
  },
  {
   "cell_type": "code",
   "execution_count": 13,
   "metadata": {},
   "outputs": [
    {
     "name": "stdout",
     "output_type": "stream",
     "text": [
      "[['kakak', 1.73], ['adik', 1.68], ['ibu', 1.71], ['ayah', 1.89]]\n",
      "Tipe data keluarga : <class 'list'>\n"
     ]
    }
   ],
   "source": [
    "keluarga = [['kakak', 1.73],\n",
    "        ['adik',1.68],\n",
    "        ['ibu', 1.71],\n",
    "        ['ayah', 1.89]\n",
    "        ]\n",
    "\n",
    "print(keluarga)\n",
    "print(\"Tipe data keluarga :\", type(keluarga))"
   ]
  },
  {
   "cell_type": "code",
   "execution_count": 17,
   "metadata": {},
   "outputs": [
    {
     "name": "stdout",
     "output_type": "stream",
     "text": [
      "1.73\n",
      "1.89\n",
      "ibu\n"
     ]
    }
   ],
   "source": [
    "keluarga_2 = ['kakak', 1.73, 'adik', 1.68, 'ibu', 1.71, 'ayah', 1.89]\n",
    "\n",
    "# Print elemen kedua \n",
    "print(keluarga_2[1])\n",
    "\n",
    "# Print elemen terakhir \n",
    "print(keluarga_2[-1])\n",
    "\n",
    "# Print area dari \"ibu\n",
    "print(keluarga_2[4])"
   ]
  },
  {
   "cell_type": "code",
   "execution_count": 18,
   "metadata": {},
   "outputs": [
    {
     "name": "stdout",
     "output_type": "stream",
     "text": [
      "3.3899999999999997\n"
     ]
    }
   ],
   "source": [
    "keluarga_2 = ['kakak', 1.73, 'adik', 1.68, 'ibu', 1.71, 'ayah', 1.89]\n",
    "\n",
    "# Jumlahkan \n",
    "keluarga_favorit = keluarga_2[3] + keluarga_2[-3]\n",
    "\n",
    "# Print the variable area_makan_favorit\n",
    "print(keluarga_favorit)"
   ]
  },
  {
   "cell_type": "code",
   "execution_count": 19,
   "metadata": {},
   "outputs": [
    {
     "name": "stdout",
     "output_type": "stream",
     "text": [
      "['kakak', 1.73, 'adik', 1.68, 'ibu', 1.71]\n",
      "['ibu', 1.71, 'ayah', 1.89]\n"
     ]
    }
   ],
   "source": [
    "keluarga_2 = ['kakak', 1.73, 'adik', 1.68, 'ibu', 1.71, 'ayah', 1.89]\n",
    "\n",
    "# Guanakan slicing untuk menyimpan 6 elemen pertama dari area_3 simpan pada variabel lantai_1\n",
    "lantai_1 = keluarga_2[:6]\n",
    "\n",
    "# Gunakan slicing untuk menyimpan 4 elemen terakhir dari area_3 simpan pada variabel lantai_2\n",
    "lantai_2 = keluarga_2[-4:]\n",
    "\n",
    "# Print lantai_1 dan lantai_2\n",
    "print(lantai_1)\n",
    "print(lantai_2)"
   ]
  },
  {
   "cell_type": "code",
   "execution_count": 21,
   "metadata": {},
   "outputs": [
    {
     "name": "stdout",
     "output_type": "stream",
     "text": [
      "['kakak', 1.73, 'adik', 1.68, 'ibu', 1.71, 'ayah', 1.89, 'nenek', 1.95, 'kakek', 1.45]\n"
     ]
    }
   ],
   "source": [
    "keluarga_2 = ['kakak', 1.73, 'adik', 1.68, 'ibu', 1.71, 'ayah', 1.89]\n",
    "\n",
    "\n",
    "# Tambahkan list ['nenek', 1.95] kedalam area_3 beri nama variabel baru area_3_1\n",
    "area_3_1 = keluarga_2 + ['nenek', 1.95]\n",
    "\n",
    "# Tambahkan list dari ['kakek', 1.45] ke dalam area_3_1 beri nama variabel baru area_3_2\n",
    "area_3_2 = area_3_1 + ['kakek', 1.45]\n",
    "\n",
    "print(area_3_2)"
   ]
  },
  {
   "cell_type": "code",
   "execution_count": 22,
   "metadata": {},
   "outputs": [
    {
     "name": "stdout",
     "output_type": "stream",
     "text": [
      "['kakak', 1.73, 'adik', 1.68, 'ibu', 1.71, 'ayah', 1.89]\n"
     ]
    }
   ],
   "source": [
    "keluarga_2 = ['kakak', 1.73, 'adik', 1.68, 'ibu', 1.71, 'ayah', 1.89, 'nenek', 1.95, 'kakek', 1.45]\n",
    "\n",
    "# Silahkan hapus 4 elemen terakhir\n",
    "del(keluarga_2[-4:])\n",
    "print(keluarga_2)"
   ]
  },
  {
   "cell_type": "code",
   "execution_count": 27,
   "metadata": {},
   "outputs": [
    {
     "name": "stdout",
     "output_type": "stream",
     "text": [
      "a\n",
      "[]\n"
     ]
    }
   ],
   "source": [
    "x = [[\"a\", \"b\", \"c\"]]\n",
    "\n",
    "print(x[0][0])\n",
    "print(x[0][:0])"
   ]
  },
  {
   "cell_type": "code",
   "execution_count": null,
   "metadata": {},
   "outputs": [],
   "source": []
  }
 ],
 "metadata": {
  "kernelspec": {
   "display_name": "Python 3",
   "language": "python",
   "name": "python3"
  },
  "language_info": {
   "codemirror_mode": {
    "name": "ipython",
    "version": 3
   },
   "file_extension": ".py",
   "mimetype": "text/x-python",
   "name": "python",
   "nbconvert_exporter": "python",
   "pygments_lexer": "ipython3",
   "version": "3.7.4"
  }
 },
 "nbformat": 4,
 "nbformat_minor": 2
}
