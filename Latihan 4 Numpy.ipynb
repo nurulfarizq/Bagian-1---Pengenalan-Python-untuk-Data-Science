{
 "cells": [
  {
   "cell_type": "code",
   "execution_count": 1,
   "metadata": {},
   "outputs": [
    {
     "name": "stdout",
     "output_type": "stream",
     "text": [
      "Tipe data dari np_tinggi : <class 'numpy.ndarray'>\n"
     ]
    }
   ],
   "source": [
    "tinggi = [180, 215, 210, 210, 188, 176, 209, 200] # dalam cm \n",
    "\n",
    "# Import numpy dengan alias np\n",
    "import numpy as np\n",
    "\n",
    "# Buat numpy array dengan list tinggi beri nama variabel np_tinggi\n",
    "np_tinggi = np.array(tinggi)\n",
    "\n",
    "\n",
    "# Print tipe data np_baseball\n",
    "print('Tipe data dari np_tinggi :',type(np_tinggi))"
   ]
  },
  {
   "cell_type": "code",
   "execution_count": 2,
   "metadata": {},
   "outputs": [
    {
     "name": "stdout",
     "output_type": "stream",
     "text": [
      "[1.8  2.15 2.1  2.1  1.88 1.76 2.09 2.  ]\n"
     ]
    }
   ],
   "source": [
    "# Buat np_tinggi menjadi dalam satuan meter\n",
    "np_tinggi = np_tinggi/100\n",
    "\n",
    "# print np_tinggi\n",
    "print(np_tinggi)"
   ]
  },
  {
   "cell_type": "code",
   "execution_count": 3,
   "metadata": {},
   "outputs": [
    {
     "name": "stdout",
     "output_type": "stream",
     "text": [
      "[27.31481481 21.63331531 22.22222222 22.90249433 22.15368945 21.08083678\n",
      " 24.95364117 27.5       ]\n"
     ]
    }
   ],
   "source": [
    "berat = [88.5, 100, 98, 101, 78.3, 65.3, 109, 110]\n",
    "\n",
    "# Buatlah numpy array dari list berat dan simpan dalam np_berat\n",
    "np_berat = np.array(berat)\n",
    "\n",
    "# hitung bmi dari berat dan tinggi simpan ke dalam variabel bmi\n",
    "bmi = np_berat / np_tinggi ** 2\n",
    "\n",
    "print(bmi)"
   ]
  },
  {
   "cell_type": "code",
   "execution_count": 4,
   "metadata": {},
   "outputs": [
    {
     "data": {
      "text/plain": [
       "array([4, 5, 2])"
      ]
     },
     "execution_count": 4,
     "metadata": {},
     "output_type": "execute_result"
    }
   ],
   "source": [
    "# Coba jawabanmu disini\n",
    "np.array([4, 3, 0]) + np.array([0, 2, 2]) #B"
   ]
  },
  {
   "cell_type": "code",
   "execution_count": 5,
   "metadata": {},
   "outputs": [
    {
     "name": "stdout",
     "output_type": "stream",
     "text": [
      "110.0\n",
      "[2.1  1.88 1.76 2.09 2.  ]\n"
     ]
    }
   ],
   "source": [
    "# print hasil np_berat yang melik index terakhir\n",
    "print(np_berat[-1])\n",
    "\n",
    "# print 5 elemen terakhir dari np_tingg\n",
    "print(np_tinggi[-5:])"
   ]
  },
  {
   "cell_type": "code",
   "execution_count": 6,
   "metadata": {},
   "outputs": [
    {
     "name": "stdout",
     "output_type": "stream",
     "text": [
      "Tipe dari basket_2d :  <class 'numpy.ndarray'>\n",
      "[[180.   78.4]\n",
      " [215.  102.7]\n",
      " [210.   98.5]\n",
      " [188.   75.2]]\n",
      "(4, 2)\n"
     ]
    }
   ],
   "source": [
    "pemain_basket = [[180, 78.4],\n",
    "                [215, 102.7],\n",
    "                [210, 98.5],\n",
    "                [188, 75.2]]\n",
    "\n",
    "# Buatlah 2D array dari pemain_basket simpan dalam variabel basket_2d\n",
    "basket_2d = np.array([[180, 78.4],\n",
    "                [215, 102.7],\n",
    "                [210, 98.5],\n",
    "                [188, 75.2]])\n",
    "\n",
    "# print tipe dari basket_2d\n",
    "print('Tipe dari basket_2d : ', type(basket_2d))\n",
    "\n",
    "# print basket_2d\n",
    "print(basket_2d)\n",
    "\n",
    "# print dimensi dari basket_2d dengan basket_2d.shape\n",
    "print(basket_2d.shape)"
   ]
  },
  {
   "cell_type": "code",
   "execution_count": 7,
   "metadata": {},
   "outputs": [
    {
     "name": "stdout",
     "output_type": "stream",
     "text": [
      "[[180.   78.4]\n",
      " [215.  102.7]\n",
      " [210.   98.5]\n",
      " [188.   75.2]]\n"
     ]
    },
    {
     "data": {
      "text/plain": [
       "array([98.5])"
      ]
     },
     "execution_count": 7,
     "metadata": {},
     "output_type": "execute_result"
    }
   ],
   "source": [
    "# Gunakan slicing untuk untuk mengambil hanya kolom pertama dari basket_2d\n",
    "basket_2d[0]\n",
    "print(basket_2d)\n",
    "\n",
    "# Gunakan slicing untuk mendapatkan 2 baris terakhir dan hanya kolom kedua dari basket_2d\n",
    "basket_2d[-2, 1:]"
   ]
  },
  {
   "cell_type": "code",
   "execution_count": 8,
   "metadata": {},
   "outputs": [
    {
     "name": "stdout",
     "output_type": "stream",
     "text": [
      "[[ 2  4]\n",
      " [ 6  8]\n",
      " [10 12]]\n",
      "[[11 12]\n",
      " [13 14]\n",
      " [15 16]]\n",
      "[[ 2  4]\n",
      " [ 6  8]\n",
      " [10 12]]\n"
     ]
    }
   ],
   "source": [
    "np_mat = np.array([[1, 2],\n",
    "                   [3, 4],\n",
    "                   [5, 6]])\n",
    "print(np_mat * 2)\n",
    "print(np_mat + np.array([10, 10]))\n",
    "print(np_mat + np_mat)"
   ]
  },
  {
   "cell_type": "code",
   "execution_count": 9,
   "metadata": {},
   "outputs": [
    {
     "name": "stdout",
     "output_type": "stream",
     "text": [
      "[ 83.4 107.7 103.5  80.2]\n",
      "[1.8  2.15 2.1  1.88]\n"
     ]
    }
   ],
   "source": [
    "# Print dengan tambahkan berat dari basket_2d (kolom kedua) dengan 5 \n",
    "#array_2d[baris, kolom]\n",
    "\n",
    "print(basket_2d[:, 1] + 5)\n",
    "\n",
    "# Print dengan mengubah tinggi basket_2d (kolom pertama) yang awalnya satuannya cm menjadi m\n",
    "print(basket_2d[:, 0]/100)"
   ]
  },
  {
   "cell_type": "code",
   "execution_count": 10,
   "metadata": {},
   "outputs": [
    {
     "name": "stdout",
     "output_type": "stream",
     "text": [
      "Mean pada tinggi : 1.9849999999999999\n",
      "Median pada tinggi : 2.045\n"
     ]
    }
   ],
   "source": [
    "# Berapakah mean dari np_tinggi? Kemudian print\n",
    "print('Mean pada tinggi :', np.mean(np_tinggi))\n",
    "\n",
    "\n",
    "# Berapakah median dari np_tinggi? Kemudian print\n",
    "print('Median pada tinggi :', np.median(np_tinggi))"
   ]
  },
  {
   "cell_type": "code",
   "execution_count": 11,
   "metadata": {},
   "outputs": [
    {
     "name": "stdout",
     "output_type": "stream",
     "text": [
      "Rata - Rata: 198.25\n",
      "Median: 141.35\n",
      "Standard Deviation: 56.390973346804365\n"
     ]
    }
   ],
   "source": [
    "# Print tinggi dari basket_2d (kolom pertama)\n",
    "rata_rata = np.mean(basket_2d[:, 0])\n",
    "print(\"Rata - Rata: \" + str(rata_rata))\n",
    "\n",
    "# Print median dari tinggi basket_2d\n",
    "med = np.median(basket_2d)\n",
    "print(\"Median: \" + str(med))\n",
    "\n",
    "# Print standar deviasi dari basket_2d\n",
    "stddev = np.std(basket_2d)\n",
    "print(\"Standard Deviation: \" + str(stddev))\n",
    "\n",
    "# Print korelasi antara kolom pertama dengan kedua dari basket_2d\n",
    "korelasi = np.corrcoef(basket_2d)"
   ]
  },
  {
   "cell_type": "code",
   "execution_count": null,
   "metadata": {},
   "outputs": [],
   "source": []
  }
 ],
 "metadata": {
  "kernelspec": {
   "display_name": "Python 3",
   "language": "python",
   "name": "python3"
  },
  "language_info": {
   "codemirror_mode": {
    "name": "ipython",
    "version": 3
   },
   "file_extension": ".py",
   "mimetype": "text/x-python",
   "name": "python",
   "nbconvert_exporter": "python",
   "pygments_lexer": "ipython3",
   "version": "3.7.4"
  }
 },
 "nbformat": 4,
 "nbformat_minor": 2
}
